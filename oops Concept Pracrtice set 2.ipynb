{
 "cells": [
  {
   "cell_type": "code",
   "execution_count": null,
   "id": "ef14d709",
   "metadata": {},
   "outputs": [],
   "source": [
    "#Class Practice set 2"
   ]
  },
  {
   "cell_type": "code",
   "execution_count": 1,
   "id": "847e949a",
   "metadata": {},
   "outputs": [],
   "source": [
    "# Exercise 1: Create a Class with instance attributes\n",
    "# Write a Python program to create a Vehicle class with max_speed and mileage instance attributes."
   ]
  },
  {
   "cell_type": "code",
   "execution_count": 24,
   "id": "dbc807fa",
   "metadata": {},
   "outputs": [],
   "source": [
    "class Vehicle:\n",
    "    def __init__(self,max_speed,mileage):\n",
    "        self.max_speed=max_speed\n",
    "        self.mileage=mileage\n",
    "        "
   ]
  },
  {
   "cell_type": "code",
   "execution_count": 25,
   "id": "98b65cfb",
   "metadata": {},
   "outputs": [],
   "source": [
    "x=Vehicle(240,18)"
   ]
  },
  {
   "cell_type": "code",
   "execution_count": 26,
   "id": "17e7eadc",
   "metadata": {},
   "outputs": [
    {
     "name": "stdout",
     "output_type": "stream",
     "text": [
      "240\n"
     ]
    }
   ],
   "source": [
    "print(x.max_speed)\n"
   ]
  },
  {
   "cell_type": "code",
   "execution_count": 27,
   "id": "211b566a",
   "metadata": {},
   "outputs": [
    {
     "name": "stdout",
     "output_type": "stream",
     "text": [
      "18\n"
     ]
    }
   ],
   "source": [
    "print(x.mileage)"
   ]
  },
  {
   "cell_type": "code",
   "execution_count": 28,
   "id": "3b7d5f2f",
   "metadata": {},
   "outputs": [],
   "source": [
    "#Exercise 2: Create a Vehicle class with static method.."
   ]
  },
  {
   "cell_type": "code",
   "execution_count": 29,
   "id": "41bf29d6",
   "metadata": {},
   "outputs": [],
   "source": [
    "class Vehicle:\n",
    "    @staticmethod\n",
    "    def greet():\n",
    "        print(\"Hello Mr-Saurav Kumar,\\n'Welcome to Newwork'  \")"
   ]
  },
  {
   "cell_type": "code",
   "execution_count": 30,
   "id": "130413a4",
   "metadata": {},
   "outputs": [],
   "source": [
    "k=Vehicle"
   ]
  },
  {
   "cell_type": "code",
   "execution_count": 31,
   "id": "87078555",
   "metadata": {},
   "outputs": [
    {
     "name": "stdout",
     "output_type": "stream",
     "text": [
      "Hello Mr-Saurav Kumar,\n",
      "'Welcome to Newwork'  \n"
     ]
    }
   ],
   "source": [
    "k.greet()"
   ]
  },
  {
   "cell_type": "code",
   "execution_count": 34,
   "id": "fa83e509",
   "metadata": {},
   "outputs": [],
   "source": [
    "#Exercise 3: Create a child class Bus that will inherit all of the variables and methods of the \n",
    "#            Vehicle class.\n",
    "# Create a Bus object that will inherit all of the variables and methods of the parent Vehicle\n",
    "# class and display it.\n",
    "\n",
    "# Vehicle Name: School Volvo Speed: 180 Mileage: 12"
   ]
  },
  {
   "cell_type": "code",
   "execution_count": 54,
   "id": "13dd83d1",
   "metadata": {},
   "outputs": [],
   "source": [
    "class Vehicle:\n",
    "    def __init__(self,name,max_speed,mileage):\n",
    "        self.name=name\n",
    "        self.max_speed=max_speed\n",
    "        self.mileage=mileage\n",
    "#k=Vehicle(240,58)\n",
    "#k.max_speed\n",
    "#k.mileage\n",
    "class Bus(Vehicle):\n",
    "    pass\n",
    "    \n",
    "        "
   ]
  },
  {
   "cell_type": "code",
   "execution_count": 55,
   "id": "b35dfbd2",
   "metadata": {},
   "outputs": [],
   "source": [
    "b=Bus(\"School Volvo\",180,12)"
   ]
  },
  {
   "cell_type": "code",
   "execution_count": 56,
   "id": "6300c089",
   "metadata": {},
   "outputs": [
    {
     "data": {
      "text/plain": [
       "'School Volvo'"
      ]
     },
     "execution_count": 56,
     "metadata": {},
     "output_type": "execute_result"
    }
   ],
   "source": [
    "b.name"
   ]
  },
  {
   "cell_type": "code",
   "execution_count": 57,
   "id": "fe891c54",
   "metadata": {},
   "outputs": [
    {
     "data": {
      "text/plain": [
       "180"
      ]
     },
     "execution_count": 57,
     "metadata": {},
     "output_type": "execute_result"
    }
   ],
   "source": [
    "b.max_speed"
   ]
  },
  {
   "cell_type": "code",
   "execution_count": 58,
   "id": "71afa093",
   "metadata": {},
   "outputs": [
    {
     "data": {
      "text/plain": [
       "12"
      ]
     },
     "execution_count": 58,
     "metadata": {},
     "output_type": "execute_result"
    }
   ],
   "source": [
    "b.mileage"
   ]
  },
  {
   "cell_type": "code",
   "execution_count": 59,
   "id": "42086063",
   "metadata": {},
   "outputs": [],
   "source": [
    "# Exercise 4: Class Inheritance\n",
    "# Given:\n",
    "# \n",
    "# Create a Bus class that inherits from the Vehicle class. Give the capacity argument of Bus.\n",
    "# seating_capacity() a default value of 50.\n",
    "\n",
    "# Use the following code for your parent Vehicle class.\n",
    "# wanted output= The seating capacity of a bus is 50 passengers"
   ]
  },
  {
   "cell_type": "code",
   "execution_count": null,
   "id": "cac4598d",
   "metadata": {},
   "outputs": [],
   "source": []
  },
  {
   "cell_type": "code",
   "execution_count": 120,
   "id": "6bdecc63",
   "metadata": {},
   "outputs": [
    {
     "name": "stdout",
     "output_type": "stream",
     "text": [
      "('The seating capacity of a', 'School Volvo', 'is', 50)\n"
     ]
    }
   ],
   "source": [
    "class Vehicle:\n",
    "    def __init__(self, name, max_speed, mileage):\n",
    "        self.name = name\n",
    "        self.max_speed = max_speed\n",
    "        self.mileage = mileage\n",
    "    def seating_capacity(self,capacity):\n",
    "        return (\"The seating capacity of a\",self.name, \"is\", capacity )\n",
    "class Bus(Vehicle):\n",
    "    def seating_capacity(self,capacity=50):\n",
    "        return super().seating_capacity(capacity=50)\n",
    "\n",
    "    \n",
    "School_bus = Bus(\"School Volvo\", 180, 12)\n",
    "print(School_bus.seating_capacity())       \n",
    "\n"
   ]
  },
  {
   "cell_type": "code",
   "execution_count": null,
   "id": "e3d0b997",
   "metadata": {},
   "outputs": [],
   "source": [
    "#Exercise 5: Define a property that must have the same value for every class instance (object)\n",
    "#Define a class attribute”color” with a default value white. I.e., Every Vehicle should be white.\n",
    "\n",
    "#Use the following code for this exercise."
   ]
  },
  {
   "cell_type": "code",
   "execution_count": 124,
   "id": "f379e935",
   "metadata": {},
   "outputs": [
    {
     "name": "stdout",
     "output_type": "stream",
     "text": [
      "('The seating capacity of a', 'School Volvo', 'is', 50)\n",
      "white Audi 220 15\n"
     ]
    }
   ],
   "source": [
    "class Vehicle:\n",
    "    color=\"white\"\n",
    "    def __init__(self, name, max_speed, mileage):\n",
    "        self.name = name\n",
    "        self.max_speed = max_speed\n",
    "        self.mileage = mileage\n",
    "    def seating_capacity(self,capacity):\n",
    "        return (\"The seating capacity of a\",self.name, \"is\", capacity )\n",
    "class Bus(Vehicle):\n",
    "    def seating_capacity(self,capacity=50):\n",
    "        return super().seating_capacity(capacity=50)\n",
    "class Car(Vehicle):\n",
    "    pass\n",
    "\n",
    "    \n",
    "\n",
    "    \n",
    "School_bus = Bus(\"School Volvo\", 180, 12)\n",
    "print(School_bus.seating_capacity())   \n",
    "\n",
    "car=Vehicle(\"Audi\",220,15)\n",
    "print(car.color,car.name,car.max_speed,car.mileage)\n",
    "\n"
   ]
  },
  {
   "cell_type": "code",
   "execution_count": 125,
   "id": "b162c7dc",
   "metadata": {},
   "outputs": [],
   "source": [
    "#Exercise 6: Class Inheritance\n",
    "#Given:\n",
    "#\n",
    "#Create a Bus child class that inherits from the Vehicle class. The default fare charge of any vehicle\n",
    "#is seating capacity * 100. If Vehicle is Bus instance, we need to add an extra 10% on full fare as a\n",
    "#maintenance charge. So total fare for bus instance will become the final amount = total fare + 10% of\n",
    "#the total fare.\n",
    "#\n",
    "#Note: The bus seating capacity is 50. so the final fare amount should be 5500. You need to override \n",
    "#    the fare() method of a Vehicle class in Bus class.\n",
    "#\n",
    "#Use the following code for your parent Vehicle class. We need to access the parent class from inside \n",
    "#a method of a child class."
   ]
  },
  {
   "cell_type": "code",
   "execution_count": 130,
   "id": "36317721",
   "metadata": {},
   "outputs": [
    {
     "name": "stdout",
     "output_type": "stream",
     "text": [
      "Total Bus fare is: 500.0\n"
     ]
    }
   ],
   "source": [
    "class Vehicle:\n",
    "    def __init__(self, name, mileage, capacity):\n",
    "        self.name = name\n",
    "        self.mileage = mileage\n",
    "        self.capacity = capacity\n",
    "\n",
    "    def fare(self):\n",
    "        return self.capacity * 100\n",
    "\n",
    "class Bus(Vehicle):\n",
    "    def fare(self):\n",
    "        final_amount=super().fare()\n",
    "        final_amount=final_amount*10/100\n",
    "        return final_amount\n",
    "\n",
    "School_bus = Bus(\"School Volvo\", 12, 50)\n",
    "print(\"Total Bus fare is:\", School_bus.fare())"
   ]
  },
  {
   "cell_type": "code",
   "execution_count": 131,
   "id": "0ba717b7",
   "metadata": {},
   "outputs": [],
   "source": [
    "#Exercise 7: Check type of an object\n",
    "#Write a program to determine which class a given Bus object belongs to.\n",
    "#\n",
    "#Given:\n",
    "#\n",
    "#class Vehicle:\n",
    "#    def __init__(self, name, mileage, capacity):\n",
    "#        self.name = name\n",
    "#        self.mileage = mileage\n",
    "#        self.capacity = capacity\n",
    "#\n",
    "#class Bus(Vehicle):\n",
    "#    pass\n",
    "#\n",
    "#School_bus = Bus(\"School Volvo\", 12, 50)"
   ]
  },
  {
   "cell_type": "code",
   "execution_count": 139,
   "id": "38978d40",
   "metadata": {},
   "outputs": [
    {
     "name": "stdout",
     "output_type": "stream",
     "text": [
      "<class 'str'>\n"
     ]
    }
   ],
   "source": [
    "class Vehicle:\n",
    "    def __init__(self, name, mileage, capacity):\n",
    "                self.name = name\n",
    "                self.mileage = mileage\n",
    "                self.capacity = capacity\n",
    "        \n",
    "class Bus(Vehicle):\n",
    "    pass\n",
    "        \n",
    "\n",
    "School_bus = Bus(\"School Volvo\", 12, 50)\n",
    "print(type(\"School_bus\"))"
   ]
  },
  {
   "cell_type": "code",
   "execution_count": 140,
   "id": "c517f4b4",
   "metadata": {},
   "outputs": [],
   "source": [
    "#Exercise 8: Determine if School_bus is also an instance of the Vehicle class\n",
    "#Given:\n",
    "#\n",
    "#class Vehicle:\n",
    "#    def __init__(self, name, mileage, capacity):\n",
    "#        self.name = name\n",
    "#        self.mileage = mileage\n",
    "#        self.capacity = capacity\n",
    "#\n",
    "#class Bus(Vehicle):\n",
    "#    pass\n",
    "#\n",
    "#School_bus = Bus(\"School Volvo\", 12, 50)"
   ]
  },
  {
   "cell_type": "code",
   "execution_count": 146,
   "id": "f876657a",
   "metadata": {},
   "outputs": [
    {
     "name": "stdout",
     "output_type": "stream",
     "text": [
      "True\n"
     ]
    }
   ],
   "source": [
    "class Vehicle:\n",
    "    def __init__(self, name, mileage, capacity):\n",
    "        self.name = name\n",
    "        self.mileage = mileage\n",
    "        self.capacity = capacity\n",
    "\n",
    "class Bus(Vehicle):\n",
    "    pass\n",
    "\n",
    "School_bus = Bus(\"School Volvo\", 12, 50)\n",
    "print(isinstance(School_bus,Vehicle))"
   ]
  },
  {
   "cell_type": "code",
   "execution_count": null,
   "id": "5a9d9834",
   "metadata": {},
   "outputs": [],
   "source": [
    "#Student of DataScience \n",
    "#Student of DataTrained-Saurav\n",
    "#Data-20-june-2022\n",
    "#Time-21:44"
   ]
  }
 ],
 "metadata": {
  "kernelspec": {
   "display_name": "Python 3 (ipykernel)",
   "language": "python",
   "name": "python3"
  },
  "language_info": {
   "codemirror_mode": {
    "name": "ipython",
    "version": 3
   },
   "file_extension": ".py",
   "mimetype": "text/x-python",
   "name": "python",
   "nbconvert_exporter": "python",
   "pygments_lexer": "ipython3",
   "version": "3.9.12"
  }
 },
 "nbformat": 4,
 "nbformat_minor": 5
}
